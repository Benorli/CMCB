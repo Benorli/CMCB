{
 "cells": [
  {
   "cell_type": "markdown",
   "metadata": {},
   "source": [
    "#### Computational Modeling of Cognition and Behavior\n",
    "\n",
    "# Introduction\n",
    "\n",
    "***"
   ]
  },
  {
   "cell_type": "markdown",
   "metadata": {},
   "source": [
    "## 1.1 Models and Theories in Science\n",
    "***\n",
    "\n",
    "<br>\n",
    "\n",
    "1. Data never speak for themselves, a model is unobservable, it requires understanding and explanation.\n",
    "\n",
    "2. Verbal theorizing can't replace quantitative analysis.\n",
    "\n",
    "3. There are always many models, we must select between them.\n",
    "\n",
    "4. Model selection requires both:\n",
    "    - Quantitave evaluation.\n",
    "    - Intellectual judgment."
   ]
  },
  {
   "cell_type": "markdown",
   "metadata": {},
   "source": [
    "## 1.2 Quantitative Modeling in Cognition\n",
    "***\n",
    "\n",
    "### 1.2.1 Models and Data\n",
    "\n",
    "<br>\n",
    "\n",
    "Appropriate models can explain a great deal of variance, which is not intuitivly obvious when looking at the data.\n",
    "\n",
    "<br>\n",
    "\n",
    "Models fit into two broad catagories:\n",
    "\n",
    "1. Models that describe data\n",
    "\n",
    "2. Models that explain an underlying cognitive process\n",
    "\n",
    "<br>\n",
    "\n",
    "### 1.2.2 Data Description\n",
    "\n",
    "<br>\n",
    "\n",
    "Models are used to summarise and communicate data, a mean could be considered a model.\n",
    "\n",
    "Select a model which best represents the data, for example median or trimmed mean can be better when data has skew.\n",
    "\n",
    "Is learning a \"Power Law\" or exponential imrpovement? Improvement in new skills grows during earlier trials, and then platoes (so more like a logistic). Best to try and define as a function. \n",
    "\n",
    "$\n",
    "RT=N^{-\\beta}\n",
    "$\n"
   ]
  }
 ],
 "metadata": {
  "kernelspec": {
   "display_name": "Python 3",
   "language": "python",
   "name": "python3"
  },
  "language_info": {
   "codemirror_mode": {
    "name": "ipython",
    "version": 3
   },
   "file_extension": ".py",
   "mimetype": "text/x-python",
   "name": "python",
   "nbconvert_exporter": "python",
   "pygments_lexer": "ipython3",
   "version": "3.7.0b3"
  }
 },
 "nbformat": 4,
 "nbformat_minor": 4
}
