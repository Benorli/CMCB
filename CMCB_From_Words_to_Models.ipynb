{
 "cells": [
  {
   "cell_type": "markdown",
   "metadata": {},
   "source": [
    "#### Computational Modeling of Cognition and Behavior\n",
    "\n",
    "# 2 From Words to Models\n",
    "## Building a Toolkit\n",
    "\n",
    "***"
   ]
  },
  {
   "cell_type": "markdown",
   "metadata": {},
   "source": [
    "## 2.1 Response Times in Speeded-Choice Tasks\n",
    "\n",
    "***\n",
    "\n",
    "<br>\n",
    "\n",
    "\"Choice rection time\" task (Smith and Vickers 1998)\n",
    "\n",
    "<br>\n",
    "\n",
    "Can be approached using a \"random walk model\":\n",
    "\n",
    "<br>\n",
    "\n",
    "Simple model assumptions:\n",
    "\n",
    "- Evidence for a decision is built up gradually.\n",
    "\n",
    "- Evidence is sampled at discrete time steps.\n",
    "\n",
    "- Sampling starts with 0 evidence\n",
    "\n",
    "\n",
    "How the model works:\n",
    "\n",
    "- Magnitude of discrete nudges towards a decision reflects the information available at a single sample.\n",
    "\n",
    "- Sampled evidence is summed accross time steps until a response threshold is reached.\n",
    "\n",
    "- Sampling starts with 0 evidence and moves towards one of two thresholds, each representing a choice (left/righ for example).\n",
    "\n",
    "Some conclusions:\n",
    "\n",
    "- If the two thresholds are equidistant from 0, the reponse times should be equal.\n",
    "\n",
    "\n",
    "Now imagine...\n",
    "\n",
    "\n",
    "\n"
   ]
  }
 ],
 "metadata": {
  "kernelspec": {
   "display_name": "Python 3",
   "language": "python",
   "name": "python3"
  },
  "language_info": {
   "codemirror_mode": {
    "name": "ipython",
    "version": 3
   },
   "file_extension": ".py",
   "mimetype": "text/x-python",
   "name": "python",
   "nbconvert_exporter": "python",
   "pygments_lexer": "ipython3",
   "version": "3.8.2"
  }
 },
 "nbformat": 4,
 "nbformat_minor": 4
}
