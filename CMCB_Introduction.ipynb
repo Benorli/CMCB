{
 "cells": [
  {
   "cell_type": "markdown",
   "metadata": {},
   "source": [
    "#### Computational Modeling of Cognition and Behavior\n",
    "\n",
    "# Introduction\n"
   ]
  },
  {
   "cell_type": "markdown",
   "metadata": {},
   "source": [
    "## 1.1 Models and Theories in Science\n",
    "\n",
    "1. Data never speak for themselves, a model is unobservable, it requires understanding and explanation.\n",
    "\n",
    "2. Verbal theorizing can't replace quantitative analysis.\n",
    "\n",
    "3. There are always many models, we must select between them.\n",
    "\n",
    "4. Model selection requires both:\n",
    "    - Quantitave evaluation.\n",
    "    - Intellectual judgment."
   ]
  }
 ],
 "metadata": {
  "kernelspec": {
   "display_name": "Python 3",
   "language": "python",
   "name": "python3"
  },
  "language_info": {
   "codemirror_mode": {
    "name": "ipython",
    "version": 3
   },
   "file_extension": ".py",
   "mimetype": "text/x-python",
   "name": "python",
   "nbconvert_exporter": "python",
   "pygments_lexer": "ipython3",
   "version": "3.5.2"
  }
 },
 "nbformat": 4,
 "nbformat_minor": 4
}
