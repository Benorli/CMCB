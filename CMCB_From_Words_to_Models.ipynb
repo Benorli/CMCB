{
 "cells": [
  {
   "cell_type": "markdown",
   "metadata": {},
   "source": [
    "#### Computational Modeling of Cognition and Behavior\n",
    "\n",
    "# 2 From Words to Models\n",
    "## Building a Toolkit\n",
    "\n",
    "***"
   ]
  },
  {
   "cell_type": "markdown",
   "metadata": {},
   "source": [
    "## 2.1 Response Times in Speeded-Choice Tasks\n",
    "\n",
    "***\n",
    "\n",
    "<br>\n",
    "\n",
    "\"Choice rection time\" task (Smith and Vickers 1998)\n",
    "\n",
    "<br>\n",
    "\n",
    "Can be approached using a \"random walk model\":\n",
    "\n",
    "<br>\n",
    "\n",
    "Simple model assumptions:\n",
    "\n",
    "- Evidence for a decision is built up gradually.\n",
    "\n",
    "- Evidence is sampled at discrete time steps.\n",
    "\n",
    "- Sampling starts with 0 evidence\n",
    "\n",
    "\n",
    "How the model works:\n",
    "\n",
    "- Magnitude of discrete nudges towards a decision reflects the information available at a single sample.\n",
    "\n",
    "- Sampled evidence is summed accross time steps until a response threshold is reached.\n",
    "\n",
    "- Sampling starts with 0 evidence and moves towards one of two thresholds, each representing a choice (left/righ for example).\n",
    "\n",
    "Some conclusions:\n",
    "\n",
    "- If the two thresholds are equidistant from 0, the reponse times should be equal.\n",
    "\n",
    "\n",
    "Prediction of the model:\n",
    "\n",
    "- Response time is dependent on evidence \n",
    "\n",
    "<br>\n",
    "\n",
    "## 2.1 Response Times in Speeded-Choice Tasks\n",
    "\n",
    "***\n",
    "<br>\n",
    "\n",
    "### 2.2.1 Getting started\n",
    "\n",
    "<br>\n",
    "\n",
    "### 2.2.2 The Random-Walk Model\n",
    "\n",
    "\n"
   ]
  },
  {
   "cell_type": "code",
   "execution_count": 7,
   "metadata": {},
   "outputs": [],
   "source": [
    "import numpy as np\n",
    "\n",
    "# set example params\n",
    "n_reps = 10000\n",
    "n_samples = 2000\n",
    "drift = 0\n",
    "sdrw = 0.3\n",
    "criterion = 3\n",
    "\n",
    "\n",
    "def random_walk(n_reps, n_samples, drift, sdrw):\n",
    "    \"\"\"random walk model\"\"\"\n",
    "    \n",
    "    latencies = np.repeat(0, n_reps)\n",
    "    responses = np.repeat(0, n_reps)\n",
    "    evidence = np.zeros((n_reps, n_samples + 1))\n",
    "    map(sum, evidence)  # INCOMPLETE, sum is not correct function continue from here"
   ]
  }
 ],
 "metadata": {
  "kernelspec": {
   "display_name": "Python 3",
   "language": "python",
   "name": "python3"
  },
  "language_info": {
   "codemirror_mode": {
    "name": "ipython",
    "version": 3
   },
   "file_extension": ".py",
   "mimetype": "text/x-python",
   "name": "python",
   "nbconvert_exporter": "python",
   "pygments_lexer": "ipython3",
   "version": "3.8.2"
  }
 },
 "nbformat": 4,
 "nbformat_minor": 4
}
