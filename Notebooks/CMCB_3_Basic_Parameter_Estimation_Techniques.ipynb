{
 "cells": [
  {
   "cell_type": "markdown",
   "metadata": {},
   "source": [
    "# 3 Basic Parameter Estimation Techniques\n",
    "\n",
    "## 3.1 Discrepancy Function\n",
    "\n",
    "To maximize the similarity between data and model predictions, the discrepancy function must be minimized. Other names for the discrepancy functions include: objective functions, cost functions, or error functions. \n",
    "\n",
    "The book shows some example data, which I simulated below, to create something roughly similar. In the original data, peoples recall of 60 random facts was tested on days following exposure. The x-axis was the day tested (since exposure). The y-axis was the proportion of facts retained.\n"
   ]
  },
  {
   "cell_type": "code",
   "execution_count": 1,
   "metadata": {
    "ExecuteTime": {
     "end_time": "2020-10-05T15:42:55.148337Z",
     "start_time": "2020-10-05T15:42:44.102313Z"
    }
   },
   "outputs": [
    {
     "data": {
      "image/png": "[encoded data removed]",
      "text/plain": [
       "<Figure size 1152x576 with 1 Axes>"
      ]
     },
     "metadata": {},
     "output_type": "display_data"
    }
   ],
   "source": [
    "import matplotlib.pyplot as plt\n",
    "import seaborn as sns\n",
    "import numpy as np\n",
    "import pandas as pd\n",
    "from jupyterthemes import jtplot\n",
    "jtplot.style('onedork',\n",
    "             spines=False,\n",
    "             figsize=(20, 10)) \n",
    "\n",
    "def gen_exp_decay_data(days, scale):\n",
    "    '''\n",
    "    Take a vector of days and return simulated data decaying exponentially\n",
    "    over time with a max of 1 and min of 0. Gaussian noise is added.\n",
    "    \n",
    "    Parameters\n",
    "    ----------\n",
    "    days : numpy.ndarray\n",
    "        A vector of days at which hypothetical measurements are taken\n",
    "    \n",
    "    scale : float, int\n",
    "        Arbitrary scaling parameter.\n",
    "    \n",
    "    Returns\n",
    "    -------\n",
    "    measurements : numpy.ndarray\n",
    "    '''\n",
    "    basis = np.exp(-days/scale)\n",
    "    noise = np.random.normal(loc=0, scale=0.03, size=len(days))\n",
    "    measurements = basis + noise\n",
    "    return measurements\n",
    "\n",
    "days = np.array([1,2,3,10,17,24,31,38,45])\n",
    "sim_data = gen_exp_decay_data(days, 30) # 30 roughly matches book figure 3.1\n",
    "\n",
    "sns.scatterplot(x=days, y=sim_data)\n",
    "plt.ylabel('Proportion of Items Retained')\n",
    "plt.xlabel('Retention Interval (Days)')\n",
    "plt.figtext(0.5, 0.95, 'Figure 3.1', wrap=True, horizontalalignment='center', fontsize=20);"
   ]
  },
  {
   "cell_type": "markdown",
   "metadata": {},
   "source": [
    "The original study (Carpenter et al 2008), used power function to model the forgetting:\n",
    "\n",
    "\\begin{equation}\n",
    "p = a(bt+1)^{-c}\n",
    "\\end{equation}\n",
    "\n",
    "<table>\n",
    "  <tr>\n",
    "    <th>Parameter</th>\n",
    "    <th>Definition</th>\n",
    "  </tr>\n",
    "  <tr>\n",
    "    <td>p</td>\n",
    "    <td>Predicted probability of recall</td>\n",
    "  </tr>\n",
    "  <tr>\n",
    "    <td>t</td>\n",
    "    <td>Time</td>\n",
    "  </tr>\n",
    "  <tr>\n",
    "    <td>a</td>\n",
    "    <td>Free parameter</td>\n",
    "  </tr>\n",
    "  <tr>\n",
    "    <td>b</td>\n",
    "    <td>Free parameter</td>\n",
    "  </tr>\n",
    "  <tr>\n",
    "    <td>c</td>\n",
    "    <td>Free parameter</td>\n",
    "  </tr>\n",
    "  \n",
    "</table>\n"
   ]
  },
  {
   "cell_type": "markdown",
   "metadata": {},
   "source": [
    "### 3.1.1 Root Mean Squared Deviation (RMSD)\n",
    "\n",
    "RMSD is a common, simple discrepancy function. It is also known as \"least-squares\" as it minimizes the squared distances between data and predictions. \n",
    "\n",
    "<br>\n",
    "\n",
    "\\begin{equation}\n",
    "  RMSD = \\sqrt{\\frac{ \\sum_{j=1}^{J}(d_{j} - p_{j})^{2}}{J}}\n",
    "\\end{equation}\n",
    "\n",
    "<br>\n",
    "\n",
    "<table>\n",
    "  <tr>\n",
    "    <th>Parameter</th>\n",
    "    <th>Definition</th>\n",
    "  </tr>\n",
    "  <tr>\n",
    "    <td>J</td>\n",
    "    <td>The number of data points over which the sum is taken</td>\n",
    "  </tr>\n",
    "  <tr>\n",
    "    <td>d</td>\n",
    "    <td>Vector of data points</td>\n",
    "  </tr>\n",
    "  <tr>\n",
    "    <td>p</td>\n",
    "    <td>Vector of predictions</td>\n",
    "  </tr>\n",
    "</table>\n",
    "\n",
    "<br>\n",
    "\n",
    "If the RMSD value is 0.025 for example, this means the predictions of the power forgetting model differ from the data by 2.5 % on average (in the units of measurement).\n",
    "\n",
    "<br>\n",
    "\n",
    "It is common to fit RMSD to group averages, (e.g means), rather than to each individual measurement. This is why $J$ is given as the denominator, rather than $N$, which is often the notation for the number of observations.\n",
    "\n",
    "<br>\n",
    "\n",
    "RMSD assumes data are measured on a continuous or fixed interval scale. Problems can occur, for example, when participants must respond on a 0 - 10 point scale. Neutral points like 5 -> 6 or 5-> 4 may mean something psychologically different than at extreme points 9 -> 10 or 0 -> 1."
   ]
  },
  {
   "cell_type": "markdown",
   "metadata": {},
   "source": [
    "### 3.1.2 Chi-Squared ($\\chi^{2}$) and $G^{2}$\n",
    "\n",
    "Appropriate for discrete data. For example, when the number of responses is constant but each response falls in a distinct category.\n",
    "\n",
    "The $\\chi^{2}$ is defined:\n",
    "\n",
    "\\begin{equation}\n",
    "  \\chi^2 = \\sum_{j=1}^{J} \\frac{(O_j - Np_j)^2}{Np_j}\n",
    "\\end{equation}\n",
    "\n",
    "<table>\n",
    "  <tr>\n",
    "    <th>Parameter</th>\n",
    "    <th>Definition</th>\n",
    "  </tr>\n",
    "  <tr>\n",
    "    <td>J</td>\n",
    "    <td>Number of response categories</td>\n",
    "  </tr>\n",
    "  <tr>\n",
    "    <td>N</td>\n",
    "    <td>The total number of observed responses (sample size)</td>\n",
    "  </tr>\n",
    "  <tr>\n",
    "    <td>$O_j$</td>\n",
    "    <td>The number of observed responses within each category j</td>\n",
    "  </tr>\n",
    "  <tr>\n",
    "    <td>$p_j$</td>\n",
    "    <td>Model predictions as probabilities</td>\n",
    "  </tr>\n",
    "</table>\n",
    "\n",
    "<br>\n",
    "\n",
    "Note: $\\sum_{j=1}^{J}O_j = N$, and $N \\times p_j$ gives predicted counts (a.k.a, expected).\n",
    "\n",
    "<br>\n",
    "\n",
    "The $G^2$ (a.k.a log-likelihood ratio) is defined:\n",
    "\n",
    "\\begin{equation}\n",
    "  G^2 = 2\\sum_{j=1}^{J}O_j\\log\\{O_j/(Np_j)\\}\n",
    "\\end{equation}\n",
    "\n",
    "<br>\n",
    "\n",
    "They can generally be used interchangeably, however the differences are reviewed by Cressie and Read (1989).\n",
    "\n",
    "<br>\n",
    "\n",
    "These models are sometimes desirable as they can be interpreted as a test statistic. However in most situations, it is the *relative* fit of models is more relevant.\n",
    "\n",
    "<br>\n",
    "\n",
    "Caution with $\\chi^2$: \n",
    "1. The number of observed/expected responses should not be bellow 5. If necessary, collapse smaller categories into larger ones.\n",
    "2. Even when the degrees of freedom ($df = J - n_p -1$) is constant, increasing $N$ can increase the magnitude of $\\chi^2$ as even small variations variations due to noise are amplified by a factor of $N$. This results in being overly sensitive to slight departures from predictions, when used as a statistical test.\n"
   ]
  },
  {
   "cell_type": "markdown",
   "metadata": {},
   "source": [
    "## 3.2 Fitting Models to Data: Parameter Estimation Techniques\n",
    "\n",
    "See page 50"
   ]
  }
 ],
 "metadata": {
  "kernelspec": {
   "display_name": "Python 3",
   "language": "python",
   "name": "python3"
  },
  "language_info": {
   "codemirror_mode": {
    "name": "ipython",
    "version": 3
   },
   "file_extension": ".py",
   "mimetype": "text/x-python",
   "name": "python",
   "nbconvert_exporter": "python",
   "pygments_lexer": "ipython3",
   "version": "3.8.2"
  },
  "toc": {
   "base_numbering": 1,
   "nav_menu": {},
   "number_sections": true,
   "sideBar": true,
   "skip_h1_title": false,
   "title_cell": "Table of Contents",
   "title_sidebar": "Contents",
   "toc_cell": false,
   "toc_position": {},
   "toc_section_display": true,
   "toc_window_display": false
  },
  "varInspector": {
   "cols": {
    "lenName": 16,
    "lenType": 16,
    "lenVar": 40
   },
   "kernels_config": {
    "python": {
     "delete_cmd_postfix": "",
     "delete_cmd_prefix": "del ",
     "library": "var_list.py",
     "varRefreshCmd": "print(var_dic_list())"
    },
    "r": {
     "delete_cmd_postfix": ") ",
     "delete_cmd_prefix": "rm(",
     "library": "var_list.r",
     "varRefreshCmd": "cat(var_dic_list()) "
    }
   },
   "oldHeight": 146,
   "position": {
    "height": "42px",
    "left": "1223px",
    "right": "20px",
    "top": "56px",
    "width": "250px"
   },
   "types_to_exclude": [
    "module",
    "function",
    "builtin_function_or_method",
    "instance",
    "_Feature"
   ],
   "varInspector_section_display": "none",
   "window_display": false
  }
 },
 "nbformat": 4,
 "nbformat_minor": 4
}
