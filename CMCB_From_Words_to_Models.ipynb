{
 "cells": [
  {
   "cell_type": "markdown",
   "metadata": {},
   "source": [
    "#### Computational Modeling of Cognition and Behavior\n",
    "\n",
    "# 2 From Words to Models\n",
    "## Building a Toolkit\n",
    "\n",
    "***"
   ]
  },
  {
   "cell_type": "markdown",
   "metadata": {},
   "source": [
    "## 2.1 Response Times in Speeded-Choice Tasks\n",
    "\n",
    "***\n",
    "\n",
    "<br>\n",
    "\n",
    "\"Choice rection time\" task (Smith and Vickers 1998)\n",
    "\n",
    "<br>\n",
    "\n",
    "Can be approached using a \"random walk model\":\n",
    "\n",
    "<br>\n",
    "\n",
    "Simple model assumptions:\n",
    "\n",
    "- Evidence for a decision is built up gradually.\n",
    "\n",
    "- Evidence is sampled at discrete time steps.\n",
    "\n",
    "- Sampling starts with 0 evidence\n",
    "\n",
    "\n",
    "How the model works:\n",
    "\n",
    "- Magnitude of discrete nudges towards a decision reflects the information available at a single sample.\n",
    "\n",
    "- Sampled evidence is summed accross time steps until a response threshold is reached.\n",
    "\n",
    "- Sampling starts with 0 evidence and moves towards one of two thresholds, each representing a choice (left/righ for example).\n",
    "\n",
    "Some conclusions:\n",
    "\n",
    "- If the two thresholds are equidistant from 0, the reponse times should be equal.\n",
    "\n",
    "\n",
    "Prediction of the model:\n",
    "\n",
    "- Response time is dependent on evidence \n",
    "\n",
    "<br>\n",
    "\n",
    "## 2.1 Response Times in Speeded-Choice Tasks\n",
    "\n",
    "***\n",
    "<br>\n",
    "\n",
    "### 2.2.1 Getting started\n",
    "\n",
    "<br>\n",
    "\n",
    "### 2.2.2 The Random-Walk Model\n",
    "\n",
    "<br>\n",
    "\n",
    "I created two functions, one simulates a single trial, the other uses a map funtion with the single trial function, to simulate multiple trials.\n",
    "\n",
    "<br>\n"
   ]
  },
  {
   "cell_type": "code",
   "execution_count": 10,
   "metadata": {},
   "outputs": [],
   "source": [
    "import numpy as np\n",
    "\n",
    "\n",
    "def random_walk(n_reps, n_samples, drift, sd_rw, threshold):\n",
    "    \"\"\"random walk model\"\"\"\n",
    "    # star unpacks generator (map output)\n",
    "    [*list_trials] = map(lambda trial_evidence: simulate_trial(trial_evidence,\n",
    "                                                               n_samples,\n",
    "                                                               drift,\n",
    "                                                               sd_rw,\n",
    "                                                               threshold),\n",
    "                         np.zeros((n_reps,\n",
    "                                   n_samples + 1)))\n",
    "    evidence = list(map(lambda x: x[0], list_trials))\n",
    "    trial_latencies = list(map(lambda x: x[1], list_trials))\n",
    "    trial_responses = list(map(lambda x: x[2], list_trials))\n",
    "    return evidence, trial_latencies, trial_responses\n",
    "\n",
    "\n",
    "def simulate_trial(trial_evidence, n_samples, drift, sd_rw, threshold):\n",
    "    \"\"\"simulate a single trial of the random walk model\"\"\"\n",
    "    trial_evidence[:] = np.cumsum(np.concatenate([np.zeros(1),\n",
    "                                                  np.random.normal(drift,\n",
    "                                                                   sd_rw,\n",
    "                                                                   n_samples)]))\n",
    "    trial_latency = np.where(abs(trial_evidence) > threshold)\n",
    "    assert trial_latency[0].size, \"No decision made, sd_rw too low or threshold too high\"\n",
    "    trial_response = np.sign(trial_evidence[trial_latency])\n",
    "    return trial_evidence, trial_latency[0][1], trial_response\n"
   ]
  },
  {
   "cell_type": "markdown",
   "metadata": {},
   "source": [
    "<br>\n",
    "\n",
    "Then I set some specific values to variables and ran a simulation.\n",
    "\n",
    "<br>\n"
   ]
  },
  {
   "cell_type": "code",
   "execution_count": 12,
   "metadata": {},
   "outputs": [],
   "source": [
    "# set example params\n",
    "n_reps = 10000\n",
    "n_samples = 2000\n",
    "drift = 0  # the amount of evidence, 0 gives a random decision \n",
    "sd_rw = 0.3  # standard deviation of random walk (noise in the evidence)\n",
    "threshold = 3\n",
    "\n",
    "evidence, trial_latencies, trial_responses = random_walk(n_reps,\n",
    "                                                         n_samples,\n",
    "                                                         drift,\n",
    "                                                         sd_rw,\n",
    "                                                         threshold)\n"
   ]
  }
 ],
 "metadata": {
  "kernelspec": {
   "display_name": "Python 3",
   "language": "python",
   "name": "python3"
  },
  "language_info": {
   "codemirror_mode": {
    "name": "ipython",
    "version": 3
   },
   "file_extension": ".py",
   "mimetype": "text/x-python",
   "name": "python",
   "nbconvert_exporter": "python",
   "pygments_lexer": "ipython3",
   "version": "3.8.2"
  }
 },
 "nbformat": 4,
 "nbformat_minor": 4
}
